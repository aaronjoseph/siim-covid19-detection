{
  "nbformat": 4,
  "nbformat_minor": 0,
  "metadata": {
    "colab": {
      "name": "EDA_2_TF_Records.ipynb",
      "provenance": [],
      "authorship_tag": "ABX9TyMn8NHpqiYe+zb/FnsrglB/",
      "include_colab_link": true
    },
    "kernelspec": {
      "display_name": "Python 3",
      "name": "python3"
    },
    "language_info": {
      "name": "python"
    }
  },
  "cells": [
    {
      "cell_type": "markdown",
      "metadata": {
        "id": "view-in-github",
        "colab_type": "text"
      },
      "source": [
        "<a href=\"https://colab.research.google.com/github/aaronjoseph/siim-covid19-detection/blob/master/EDA_2_TF_Records.ipynb\" target=\"_parent\"><img src=\"https://colab.research.google.com/assets/colab-badge.svg\" alt=\"Open In Colab\"/></a>"
      ]
    },
    {
      "cell_type": "code",
      "metadata": {
        "colab": {
          "base_uri": "https://localhost:8080/"
        },
        "id": "Y-QElPakt5aH",
        "outputId": "5d3d725b-b69f-435c-dae4-6187f48185af"
      },
      "source": [
        "import tensorflow as tf\n",
        "print(tf.__version__)"
      ],
      "execution_count": 5,
      "outputs": [
        {
          "output_type": "stream",
          "text": [
            "2.5.0\n"
          ],
          "name": "stdout"
        }
      ]
    },
    {
      "cell_type": "code",
      "metadata": {
        "id": "inX68tfRJsMw"
      },
      "source": [
        "def _bytes_feature(value):\n",
        "    \"\"\"Returns a bytes_list from a string / byte.\"\"\"\n",
        "    # If the value is an eager tensor BytesList won't unpack a string from an EagerTensor.\n",
        "    if isinstance(value, type(tf.constant(0))):\n",
        "        value = value.numpy() \n",
        "    return tf.train.Feature(bytes_list=tf.train.BytesList(value=[value]))\n",
        "\n",
        "def _float_feature(value):\n",
        "    \"\"\"Returns a float_list from a float / double.\"\"\"\n",
        "    return tf.train.Feature(float_list=tf.train.FloatList(value=[value]))\n",
        "\n",
        "def _int64_feature(value):\n",
        "    \"\"\"Returns an int64_list from a bool / enum / int / uint.\"\"\"\n",
        "    return tf.train.Feature(int64_list=tf.train.Int64List(value=[value]))"
      ],
      "execution_count": 6,
      "outputs": []
    },
    {
      "cell_type": "code",
      "metadata": {
        "colab": {
          "base_uri": "https://localhost:8080/"
        },
        "id": "7CYPspqwJxKj",
        "outputId": "0c1b1868-e959-4f74-bc14-5510f0339f92"
      },
      "source": [
        "#strings needs to be converted into bytes.\n",
        "print(_bytes_feature(b'ome string'))\n",
        "print(_float_feature(0.5))\n",
        "print(_int64_feature(True))\n",
        "print(_int64_feature(1))"
      ],
      "execution_count": 8,
      "outputs": [
        {
          "output_type": "stream",
          "text": [
            "bytes_list {\n",
            "  value: \"ome string\"\n",
            "}\n",
            "\n",
            "float_list {\n",
            "  value: 0.5\n",
            "}\n",
            "\n",
            "int64_list {\n",
            "  value: 1\n",
            "}\n",
            "\n",
            "int64_list {\n",
            "  value: 1\n",
            "}\n",
            "\n"
          ],
          "name": "stdout"
        }
      ]
    },
    {
      "cell_type": "code",
      "metadata": {
        "colab": {
          "base_uri": "https://localhost:8080/"
        },
        "id": "APMuN8zaKHS_",
        "outputId": "9294a37c-707e-4893-d2e3-9990e88f39b4"
      },
      "source": [
        "import numpy as np\n",
        "a = np.random.randn(2,2)\n",
        "_bytes_feature(tf.io.serialize_tensor(a))"
      ],
      "execution_count": 9,
      "outputs": [
        {
          "output_type": "execute_result",
          "data": {
            "text/plain": [
              "bytes_list {\n",
              "  value: \"\\010\\002\\022\\010\\022\\002\\010\\002\\022\\002\\010\\002\\\" Y\\270\\023\\031J\\367\\335\\277F\\261tt\\325\\306\\344?\\233\\236\\371^{\\013\\371\\277\\364QJy\\276O\\360\\277\"\n",
              "}"
            ]
          },
          "metadata": {
            "tags": []
          },
          "execution_count": 9
        }
      ]
    },
    {
      "cell_type": "code",
      "metadata": {
        "id": "N4U8BLfgKKC9"
      },
      "source": [
        "n_observations = 1000\n",
        "feature0 = np.random.choice([False,True],n_observations)\n",
        "feature1 = np.random.randn(n_observations)\n",
        "strings = np.array([b'cat',b'dog'])\n",
        "feature2 = np.random.choice(strings,n_observations)\n",
        "feature3 = np.random.randn(n_observations,2,2)"
      ],
      "execution_count": 11,
      "outputs": []
    },
    {
      "cell_type": "code",
      "metadata": {
        "id": "i3fUWYspKKmi"
      },
      "source": [
        "dataset = tf.data.Dataset.from_tensor_slices((feature0,feature1,feature2,feature3))"
      ],
      "execution_count": 12,
      "outputs": []
    },
    {
      "cell_type": "code",
      "metadata": {
        "id": "Wlxwo_BrPgFS"
      },
      "source": [
        "def create_example(feature0,feature1,feature2,feature3):\n",
        "    feature = {\n",
        "        'feature0': _int64_feature(feature0),\n",
        "        'feature1': _float_feature(feature1),\n",
        "        'feature2': _bytes_feature(feature2),\n",
        "        'feature3': _bytes_feature(feature3),\n",
        "    }\n",
        "\n",
        "    example_proto = tf.train.Example(features = tf.train.Features(feature = feature))\n",
        "    return example_proto"
      ],
      "execution_count": 13,
      "outputs": []
    },
    {
      "cell_type": "code",
      "metadata": {
        "colab": {
          "base_uri": "https://localhost:8080/"
        },
        "id": "zj9YSUcCQgCO",
        "outputId": "c74e4901-ffe9-4514-bdbb-75fee93c6c4a"
      },
      "source": [
        "for feature0, feature1, feature2, feature3 in dataset.take(1):\n",
        "    example_proto = create_example(feature0,\n",
        "                                   feature1,\n",
        "                                   feature2,\n",
        "                                   tf.io.serialize_tensor(feature3))\n",
        "    print(example_proto)"
      ],
      "execution_count": 16,
      "outputs": [
        {
          "output_type": "stream",
          "text": [
            "features {\n",
            "  feature {\n",
            "    key: \"feature0\"\n",
            "    value {\n",
            "      int64_list {\n",
            "        value: 0\n",
            "      }\n",
            "    }\n",
            "  }\n",
            "  feature {\n",
            "    key: \"feature1\"\n",
            "    value {\n",
            "      float_list {\n",
            "        value: 0.13842745125293732\n",
            "      }\n",
            "    }\n",
            "  }\n",
            "  feature {\n",
            "    key: \"feature2\"\n",
            "    value {\n",
            "      bytes_list {\n",
            "        value: \"dog\"\n",
            "      }\n",
            "    }\n",
            "  }\n",
            "  feature {\n",
            "    key: \"feature3\"\n",
            "    value {\n",
            "      bytes_list {\n",
            "        value: \"\\010\\002\\022\\010\\022\\002\\010\\002\\022\\002\\010\\002\\\" \\242.%\\314\\241\\271\\346\\277\\331\\372\\215\\271m~\\362?SDl\\267Fe\\372\\277\\263\\032v\\017E\\374\\347\\277\"\n",
            "      }\n",
            "    }\n",
            "  }\n",
            "}\n",
            "\n"
          ],
          "name": "stdout"
        }
      ]
    },
    {
      "cell_type": "code",
      "metadata": {
        "id": "n5uYrz1CR4QX"
      },
      "source": [
        "def serialize_example(feature0, feature1, feature2, feature3):\n",
        "    feature = {\n",
        "      'feature0': _int64_feature(feature0),\n",
        "      'feature1': _float_feature(feature1),\n",
        "      'feature2': _bytes_feature(feature2),\n",
        "      'feature3': _bytes_feature(feature3),\n",
        "    }\n",
        "    # Create a Features message using tf.train.Example.\n",
        "    example_proto = tf.train.Example(features=tf.train.Features(feature=feature))\n",
        "    return example_proto.SerializeToString()"
      ],
      "execution_count": 17,
      "outputs": []
    },
    {
      "cell_type": "code",
      "metadata": {
        "colab": {
          "base_uri": "https://localhost:8080/"
        },
        "id": "qPsDEC_fR-Q-",
        "outputId": "be455dba-22b5-44b1-cd06-9e2819a30282"
      },
      "source": [
        "for feature0, feature1, feature2, feature3 in dataset.take(1):\n",
        "  serialized_example = serialize_example(feature0, \n",
        "                                 feature1, \n",
        "                                 feature2, \n",
        "                                 tf.io.serialize_tensor(feature3))\n",
        "  print(serialized_example)"
      ],
      "execution_count": 18,
      "outputs": [
        {
          "output_type": "stream",
          "text": [
            "b'\\n~\\n\\x11\\n\\x08feature0\\x12\\x05\\x1a\\x03\\n\\x01\\x00\\n\\x14\\n\\x08feature1\\x12\\x08\\x12\\x06\\n\\x04\\xed\\xbf\\r>\\n\\x13\\n\\x08feature2\\x12\\x07\\n\\x05\\n\\x03dog\\n>\\n\\x08feature3\\x122\\n0\\n.\\x08\\x02\\x12\\x08\\x12\\x02\\x08\\x02\\x12\\x02\\x08\\x02\" \\xa2.%\\xcc\\xa1\\xb9\\xe6\\xbf\\xd9\\xfa\\x8d\\xb9m~\\xf2?SDl\\xb7Fe\\xfa\\xbf\\xb3\\x1av\\x0fE\\xfc\\xe7\\xbf'\n"
          ],
          "name": "stdout"
        }
      ]
    },
    {
      "cell_type": "code",
      "metadata": {
        "id": "SvNygElYR-nq"
      },
      "source": [
        "file_path = 'data.tfrecords'\n",
        "with tf.io.TFRecordWriter(file_path) as writer:\n",
        "    for feature0, feature1 , feature2, feature3 in dataset:\n",
        "        serialized_example = serialize_example(feature0, feature1, feature2, tf.io.serialize_tensor(feature3))\n",
        "    writer.write(serialized_example)"
      ],
      "execution_count": 19,
      "outputs": []
    },
    {
      "cell_type": "code",
      "metadata": {
        "id": "m0FQGxVSR-64"
      },
      "source": [
        "file_paths = [file_path]\n",
        "tfrecord_dataset = tf.data.TFRecordDataset(file_paths)"
      ],
      "execution_count": 20,
      "outputs": []
    },
    {
      "cell_type": "code",
      "metadata": {
        "id": "KcRQjIFSR_Mw"
      },
      "source": [
        "def read_tfrecord(serialized_example):\n",
        "    feature_description = {\n",
        "            'feature0': tf.io.FixedLenFeature((), tf.int64),\n",
        "            'feature1': tf.io.FixedLenFeature((), tf.float32),\n",
        "            'feature2': tf.io.FixedLenFeature((), tf.string),\n",
        "            'feature3': tf.io.FixedLenFeature((), tf.string),\n",
        "    }\n",
        "    example = tf.io.parse_single_example(serialized_example, feature_description)\n",
        "  \n",
        "    feature0 = example['feature0']\n",
        "    feature1 = example['feature1']\n",
        "    feature2 = example['feature2']\n",
        "    feature3 = tf.io.parse_tensor(example['feature3'], out_type = tf.float64)\n",
        "    \n",
        "    return feature0, feature1, feature2, feature3"
      ],
      "execution_count": 21,
      "outputs": []
    },
    {
      "cell_type": "code",
      "metadata": {
        "colab": {
          "base_uri": "https://localhost:8080/"
        },
        "id": "-qaHevZNXtMV",
        "outputId": "34fa4ff5-2a56-4e86-a404-c4d708bf11b7"
      },
      "source": [
        "parsed_dataset = tfrecord_dataset.map(read_tfrecord)\n",
        "for data in parsed_dataset.take(2):\n",
        "  print(data)"
      ],
      "execution_count": 22,
      "outputs": [
        {
          "output_type": "stream",
          "text": [
            "(<tf.Tensor: shape=(), dtype=int64, numpy=1>, <tf.Tensor: shape=(), dtype=float32, numpy=2.0239651>, <tf.Tensor: shape=(), dtype=string, numpy=b'dog'>, <tf.Tensor: shape=(2, 2), dtype=float64, numpy=\n",
            "array([[-0.27805062,  1.01309051],\n",
            "       [-0.86768141, -0.59519124]])>)\n"
          ],
          "name": "stdout"
        }
      ]
    },
    {
      "cell_type": "code",
      "metadata": {
        "id": "6ZfAn5LfYmcm"
      },
      "source": [
        ""
      ],
      "execution_count": null,
      "outputs": []
    },
    {
      "cell_type": "code",
      "metadata": {
        "id": "WlLmWMXdYm4t"
      },
      "source": [
        ""
      ],
      "execution_count": null,
      "outputs": []
    }
  ]
}